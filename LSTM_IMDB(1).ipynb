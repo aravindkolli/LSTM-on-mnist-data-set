{
 "cells": [
  {
   "cell_type": "code",
   "execution_count": 1,
   "metadata": {
    "colab": {
     "base_uri": "https://localhost:8080/",
     "height": 126
    },
    "colab_type": "code",
    "id": "htHtlAF4X6jn",
    "outputId": "4c08efc7-b4d1-46cb-8b69-cba7743e0fde"
   },
   "outputs": [
    {
     "name": "stdout",
     "output_type": "stream",
     "text": [
      "Go to this URL in a browser: https://accounts.google.com/o/oauth2/auth?client_id=947318989803-6bn6qk8qdgf4n4g3pfee6491hc0brc4i.apps.googleusercontent.com&redirect_uri=urn%3Aietf%3Awg%3Aoauth%3A2.0%3Aoob&scope=email%20https%3A%2F%2Fwww.googleapis.com%2Fauth%2Fdocs.test%20https%3A%2F%2Fwww.googleapis.com%2Fauth%2Fdrive%20https%3A%2F%2Fwww.googleapis.com%2Fauth%2Fdrive.photos.readonly%20https%3A%2F%2Fwww.googleapis.com%2Fauth%2Fpeopleapi.readonly&response_type=code\n",
      "\n",
      "Enter your authorization code:\n",
      "··········\n",
      "Mounted at /content/drive\n"
     ]
    }
   ],
   "source": [
    "# Load the Drive helper and mount\n",
    "from google.colab import drive\n",
    "drive.mount('/content/drive')"
   ]
  },
  {
   "cell_type": "code",
   "execution_count": 2,
   "metadata": {
    "colab": {
     "base_uri": "https://localhost:8080/",
     "height": 35
    },
    "colab_type": "code",
    "id": "rBdu5hcrX92W",
    "outputId": "c60a18a8-b23f-48b0-8bd7-f954a58871d9"
   },
   "outputs": [
    {
     "name": "stdout",
     "output_type": "stream",
     "text": [
      "/content/drive/My Drive\n"
     ]
    }
   ],
   "source": [
    "cd drive/My Drive"
   ]
  },
  {
   "cell_type": "code",
   "execution_count": 3,
   "metadata": {
    "colab": {
     "base_uri": "https://localhost:8080/",
     "height": 782
    },
    "colab_type": "code",
    "id": "1lvhkG7iYNnm",
    "outputId": "09ca72c1-8638-462f-8dbe-e9090f174306"
   },
   "outputs": [
    {
     "data": {
      "text/html": [
       "<div>\n",
       "<style scoped>\n",
       "    .dataframe tbody tr th:only-of-type {\n",
       "        vertical-align: middle;\n",
       "    }\n",
       "\n",
       "    .dataframe tbody tr th {\n",
       "        vertical-align: top;\n",
       "    }\n",
       "\n",
       "    .dataframe thead th {\n",
       "        text-align: right;\n",
       "    }\n",
       "</style>\n",
       "<table border=\"1\" class=\"dataframe\">\n",
       "  <thead>\n",
       "    <tr style=\"text-align: right;\">\n",
       "      <th></th>\n",
       "      <th>index</th>\n",
       "      <th>Id</th>\n",
       "      <th>ProductId</th>\n",
       "      <th>UserId</th>\n",
       "      <th>ProfileName</th>\n",
       "      <th>HelpfulnessNumerator</th>\n",
       "      <th>HelpfulnessDenominator</th>\n",
       "      <th>Score</th>\n",
       "      <th>Time</th>\n",
       "      <th>Summary</th>\n",
       "      <th>Text</th>\n",
       "      <th>CleanedText</th>\n",
       "    </tr>\n",
       "  </thead>\n",
       "  <tbody>\n",
       "    <tr>\n",
       "      <th>0</th>\n",
       "      <td>138706</td>\n",
       "      <td>150524</td>\n",
       "      <td>0006641040</td>\n",
       "      <td>ACITT7DI6IDDL</td>\n",
       "      <td>shari zychinski</td>\n",
       "      <td>0</td>\n",
       "      <td>0</td>\n",
       "      <td>1</td>\n",
       "      <td>939340800</td>\n",
       "      <td>EVERY book is educational</td>\n",
       "      <td>this witty little book makes my son laugh at l...</td>\n",
       "      <td>witti littl book make son laugh loud recit car...</td>\n",
       "    </tr>\n",
       "    <tr>\n",
       "      <th>1</th>\n",
       "      <td>138688</td>\n",
       "      <td>150506</td>\n",
       "      <td>0006641040</td>\n",
       "      <td>A2IW4PEEKO2R0U</td>\n",
       "      <td>Tracy</td>\n",
       "      <td>1</td>\n",
       "      <td>1</td>\n",
       "      <td>1</td>\n",
       "      <td>1194739200</td>\n",
       "      <td>Love the book, miss the hard cover version</td>\n",
       "      <td>I grew up reading these Sendak books, and watc...</td>\n",
       "      <td>grew read sendak book watch realli rosi movi i...</td>\n",
       "    </tr>\n",
       "    <tr>\n",
       "      <th>2</th>\n",
       "      <td>138689</td>\n",
       "      <td>150507</td>\n",
       "      <td>0006641040</td>\n",
       "      <td>A1S4A3IQ2MU7V4</td>\n",
       "      <td>sally sue \"sally sue\"</td>\n",
       "      <td>1</td>\n",
       "      <td>1</td>\n",
       "      <td>1</td>\n",
       "      <td>1191456000</td>\n",
       "      <td>chicken soup with rice months</td>\n",
       "      <td>This is a fun way for children to learn their ...</td>\n",
       "      <td>fun way children learn month year learn poem t...</td>\n",
       "    </tr>\n",
       "    <tr>\n",
       "      <th>3</th>\n",
       "      <td>138690</td>\n",
       "      <td>150508</td>\n",
       "      <td>0006641040</td>\n",
       "      <td>AZGXZ2UUK6X</td>\n",
       "      <td>Catherine Hallberg \"(Kate)\"</td>\n",
       "      <td>1</td>\n",
       "      <td>1</td>\n",
       "      <td>1</td>\n",
       "      <td>1076025600</td>\n",
       "      <td>a good swingy rhythm for reading aloud</td>\n",
       "      <td>This is a great little book to read aloud- it ...</td>\n",
       "      <td>great littl book read nice rhythm well good re...</td>\n",
       "    </tr>\n",
       "    <tr>\n",
       "      <th>4</th>\n",
       "      <td>138691</td>\n",
       "      <td>150509</td>\n",
       "      <td>0006641040</td>\n",
       "      <td>A3CMRKGE0P909G</td>\n",
       "      <td>Teresa</td>\n",
       "      <td>3</td>\n",
       "      <td>4</td>\n",
       "      <td>1</td>\n",
       "      <td>1018396800</td>\n",
       "      <td>A great way to learn the months</td>\n",
       "      <td>This is a book of poetry about the months of t...</td>\n",
       "      <td>book poetri month year goe month cute littl po...</td>\n",
       "    </tr>\n",
       "  </tbody>\n",
       "</table>\n",
       "</div>"
      ],
      "text/plain": [
       "    index      Id   ProductId          UserId                  ProfileName  \\\n",
       "0  138706  150524  0006641040   ACITT7DI6IDDL              shari zychinski   \n",
       "1  138688  150506  0006641040  A2IW4PEEKO2R0U                        Tracy   \n",
       "2  138689  150507  0006641040  A1S4A3IQ2MU7V4        sally sue \"sally sue\"   \n",
       "3  138690  150508  0006641040     AZGXZ2UUK6X  Catherine Hallberg \"(Kate)\"   \n",
       "4  138691  150509  0006641040  A3CMRKGE0P909G                       Teresa   \n",
       "\n",
       "   HelpfulnessNumerator  HelpfulnessDenominator  Score        Time  \\\n",
       "0                     0                       0      1   939340800   \n",
       "1                     1                       1      1  1194739200   \n",
       "2                     1                       1      1  1191456000   \n",
       "3                     1                       1      1  1076025600   \n",
       "4                     3                       4      1  1018396800   \n",
       "\n",
       "                                      Summary  \\\n",
       "0                   EVERY book is educational   \n",
       "1  Love the book, miss the hard cover version   \n",
       "2               chicken soup with rice months   \n",
       "3      a good swingy rhythm for reading aloud   \n",
       "4             A great way to learn the months   \n",
       "\n",
       "                                                Text  \\\n",
       "0  this witty little book makes my son laugh at l...   \n",
       "1  I grew up reading these Sendak books, and watc...   \n",
       "2  This is a fun way for children to learn their ...   \n",
       "3  This is a great little book to read aloud- it ...   \n",
       "4  This is a book of poetry about the months of t...   \n",
       "\n",
       "                                         CleanedText  \n",
       "0  witti littl book make son laugh loud recit car...  \n",
       "1  grew read sendak book watch realli rosi movi i...  \n",
       "2  fun way children learn month year learn poem t...  \n",
       "3  great littl book read nice rhythm well good re...  \n",
       "4  book poetri month year goe month cute littl po...  "
      ]
     },
     "execution_count": 3,
     "metadata": {
      "tags": []
     },
     "output_type": "execute_result"
    }
   ],
   "source": [
    "import sqlite3\n",
    "import pandas as pd\n",
    "\n",
    "con = sqlite3.connect('final.sqlite') \n",
    "final = pd.read_sql_query(\"\"\" SELECT * FROM Reviews WHERE Score != 3 \"\"\", con) \n",
    "final.head()"
   ]
  },
  {
   "cell_type": "code",
   "execution_count": 4,
   "metadata": {
    "colab": {
     "base_uri": "https://localhost:8080/",
     "height": 35
    },
    "colab_type": "code",
    "id": "m-sw2HTVfWPU",
    "outputId": "a3b6bbfd-53e3-47db-cbc8-a53e03bce6e3"
   },
   "outputs": [
    {
     "data": {
      "text/plain": [
       "(364171, 12)"
      ]
     },
     "execution_count": 4,
     "metadata": {
      "tags": []
     },
     "output_type": "execute_result"
    }
   ],
   "source": [
    "final.shape"
   ]
  },
  {
   "cell_type": "code",
   "execution_count": 5,
   "metadata": {
    "colab": {
     "base_uri": "https://localhost:8080/",
     "height": 53
    },
    "colab_type": "code",
    "id": "-8k-oht-m6z0",
    "outputId": "b0f92ccf-5e8f-4744-861b-c0a6c78c2103"
   },
   "outputs": [
    {
     "name": "stdout",
     "output_type": "stream",
     "text": [
      "Dataset Shape : \n",
      " (50000,)\n"
     ]
    }
   ],
   "source": [
    "import datetime as dt\n",
    "\n",
    "# Drop index column \n",
    "reviews_df = final.drop(columns=['index'])\n",
    "reviews_df['Time'] = reviews_df[['Time']].applymap(lambda x: dt.datetime.fromtimestamp(x))\n",
    "\n",
    "\n",
    "reviews_df=reviews_df.sample(50000)\n",
    "\n",
    "# Sort the data on the basis of time.\n",
    "reviews_df = reviews_df.sort_values(by=['Time'])\n",
    "cleaned_text = reviews_df['CleanedText'].values\n",
    "\n",
    "print(\"Dataset Shape : \\n\",cleaned_text.shape)"
   ]
  },
  {
   "cell_type": "code",
   "execution_count": 6,
   "metadata": {
    "colab": {
     "base_uri": "https://localhost:8080/",
     "height": 198
    },
    "colab_type": "code",
    "id": "S7apyh9xnLQ0",
    "outputId": "fbd4cfba-2f71-44ee-b45e-74fa4a4db576"
   },
   "outputs": [
    {
     "name": "stdout",
     "output_type": "stream",
     "text": [
      "Shape of the data :  (50000,)\n",
      "Number of sentences present in complete dataset :  1915849\n",
      "Number of unique words present in whole corpus:  27416\n",
      "\n",
      "Top 25 words with their frequencies:\n",
      "[('like', 23669), ('tast', 22761), ('good', 17492), ('flavor', 17475), ('use', 16398), ('product', 16372), ('one', 16076), ('love', 15895), ('great', 15236), ('tri', 14402), ('tea', 13145), ('coffe', 13062), ('get', 11766), ('make', 11720), ('food', 10639), ('would', 10046), ('buy', 9378), ('time', 8872), ('realli', 8647), ('eat', 8432), ('order', 8188), ('amazon', 8085), ('dont', 8041), ('much', 7858), ('price', 7641)]\n",
      "\n",
      "Top 25 words with their index:\n",
      "[('like', 1), ('tast', 2), ('good', 3), ('flavor', 4), ('use', 5), ('product', 6), ('one', 7), ('love', 8), ('great', 9), ('tri', 10), ('tea', 11), ('coffe', 12), ('get', 13), ('make', 14), ('food', 15), ('would', 16), ('buy', 17), ('time', 18), ('realli', 19), ('eat', 20), ('order', 21), ('amazon', 22), ('dont', 23), ('much', 24), ('price', 25)]\n"
     ]
    }
   ],
   "source": [
    "from collections import Counter\n",
    "from itertools import islice\n",
    "\n",
    "all_words=[]\n",
    "for sentence in cleaned_text:\n",
    "    words = sentence.split()\n",
    "    all_words += words\n",
    "    \n",
    "print(\"Shape of the data : \",cleaned_text.shape)\n",
    "print(\"Number of sentences present in complete dataset : \",len(all_words))\n",
    "\n",
    "counts = Counter(all_words)\n",
    "print(\"Number of unique words present in whole corpus: \",len(counts.most_common()))\n",
    "vocab_size = len(counts.most_common()) + 1\n",
    "top_words_count = 5000\n",
    "sorted_words = counts.most_common(top_words_count)\n",
    "\n",
    "word_index_lookup = dict()\n",
    "i = 1\n",
    "for word,frequency in sorted_words:\n",
    "    word_index_lookup[word] = i\n",
    "    i += 1\n",
    "\n",
    "print()\n",
    "print(\"Top 25 words with their frequencies:\")\n",
    "print(counts.most_common(25))\n",
    "print()\n",
    "print(\"Top 25 words with their index:\")\n",
    "print(list(islice(word_index_lookup.items(), 25)))"
   ]
  },
  {
   "cell_type": "code",
   "execution_count": 7,
   "metadata": {
    "colab": {
     "base_uri": "https://localhost:8080/",
     "height": 660
    },
    "colab_type": "code",
    "id": "sVgI5_3Zovhp",
    "outputId": "2781c851-9eab-4e6a-fd2e-603718952a41"
   },
   "outputs": [
    {
     "data": {
      "text/html": [
       "<div>\n",
       "<style scoped>\n",
       "    .dataframe tbody tr th:only-of-type {\n",
       "        vertical-align: middle;\n",
       "    }\n",
       "\n",
       "    .dataframe tbody tr th {\n",
       "        vertical-align: top;\n",
       "    }\n",
       "\n",
       "    .dataframe thead th {\n",
       "        text-align: right;\n",
       "    }\n",
       "</style>\n",
       "<table border=\"1\" class=\"dataframe\">\n",
       "  <thead>\n",
       "    <tr style=\"text-align: right;\">\n",
       "      <th></th>\n",
       "      <th>Id</th>\n",
       "      <th>ProductId</th>\n",
       "      <th>UserId</th>\n",
       "      <th>ProfileName</th>\n",
       "      <th>HelpfulnessNumerator</th>\n",
       "      <th>HelpfulnessDenominator</th>\n",
       "      <th>Score</th>\n",
       "      <th>Time</th>\n",
       "      <th>Summary</th>\n",
       "      <th>Text</th>\n",
       "      <th>CleanedText</th>\n",
       "      <th>CleanedText_Index</th>\n",
       "    </tr>\n",
       "  </thead>\n",
       "  <tbody>\n",
       "    <tr>\n",
       "      <th>242</th>\n",
       "      <td>1244</td>\n",
       "      <td>B00002Z754</td>\n",
       "      <td>A3B8RCEI0FXFI6</td>\n",
       "      <td>B G Chase</td>\n",
       "      <td>10</td>\n",
       "      <td>10</td>\n",
       "      <td>1</td>\n",
       "      <td>2000-06-29</td>\n",
       "      <td>WOW Make your own 'slickers' !</td>\n",
       "      <td>I just received my shipment and could hardly w...</td>\n",
       "      <td>receiv shipment could hard wait tri product lo...</td>\n",
       "      <td>[175, 669, 74, 120, 430, 10, 6, 8, 306, 281, 3...</td>\n",
       "    </tr>\n",
       "    <tr>\n",
       "      <th>837</th>\n",
       "      <td>149770</td>\n",
       "      <td>B00004S1C5</td>\n",
       "      <td>A1KXONFPU2XQ5K</td>\n",
       "      <td>Stephanie Manley</td>\n",
       "      <td>8</td>\n",
       "      <td>8</td>\n",
       "      <td>1</td>\n",
       "      <td>2000-08-09</td>\n",
       "      <td>Very easy to use</td>\n",
       "      <td>This are so much easier to use than the Wilson...</td>\n",
       "      <td>much easier use wilson past color color vibran...</td>\n",
       "      <td>[24, 660, 5, 0, 369, 290, 290, 2816, 4182, 106...</td>\n",
       "    </tr>\n",
       "    <tr>\n",
       "      <th>868</th>\n",
       "      <td>149789</td>\n",
       "      <td>B00004S1C6</td>\n",
       "      <td>A1KXONFPU2XQ5K</td>\n",
       "      <td>Stephanie Manley</td>\n",
       "      <td>26</td>\n",
       "      <td>28</td>\n",
       "      <td>1</td>\n",
       "      <td>2000-08-09</td>\n",
       "      <td>A must have!</td>\n",
       "      <td>These are easy to use, they do not make a mess...</td>\n",
       "      <td>easi use make mess offer vibrant color taint d...</td>\n",
       "      <td>[117, 5, 14, 747, 377, 2816, 290, 4182, 0, 290...</td>\n",
       "    </tr>\n",
       "    <tr>\n",
       "      <th>296</th>\n",
       "      <td>374408</td>\n",
       "      <td>B00004CI84</td>\n",
       "      <td>A1GB1Q193DNFGR</td>\n",
       "      <td>Bruce Lee Pullen</td>\n",
       "      <td>5</td>\n",
       "      <td>5</td>\n",
       "      <td>1</td>\n",
       "      <td>2000-10-03</td>\n",
       "      <td>Fabulous Comedic Fanasy Directed by a Master</td>\n",
       "      <td>Beetlejuice is an awe-inspiring wonderfully am...</td>\n",
       "      <td>beetlejuic wonder amus comed romp explor incre...</td>\n",
       "      <td>[4528, 116, 0, 0, 0, 3759, 937, 664, 0, 4258, ...</td>\n",
       "    </tr>\n",
       "    <tr>\n",
       "      <th>1113</th>\n",
       "      <td>149697</td>\n",
       "      <td>B00006L2ZT</td>\n",
       "      <td>A2RSOEBCK1K70S</td>\n",
       "      <td>G. Preston</td>\n",
       "      <td>19</td>\n",
       "      <td>21</td>\n",
       "      <td>1</td>\n",
       "      <td>2002-11-07</td>\n",
       "      <td>Boxed Evolution</td>\n",
       "      <td>Long live Camper Van Beethoven!! This is a ble...</td>\n",
       "      <td>long live camper van beethoven bless long time...</td>\n",
       "      <td>[136, 289, 3332, 2960, 0, 2467, 136, 18, 0, 34...</td>\n",
       "    </tr>\n",
       "  </tbody>\n",
       "</table>\n",
       "</div>"
      ],
      "text/plain": [
       "          Id   ProductId          UserId       ProfileName  \\\n",
       "242     1244  B00002Z754  A3B8RCEI0FXFI6         B G Chase   \n",
       "837   149770  B00004S1C5  A1KXONFPU2XQ5K  Stephanie Manley   \n",
       "868   149789  B00004S1C6  A1KXONFPU2XQ5K  Stephanie Manley   \n",
       "296   374408  B00004CI84  A1GB1Q193DNFGR  Bruce Lee Pullen   \n",
       "1113  149697  B00006L2ZT  A2RSOEBCK1K70S        G. Preston   \n",
       "\n",
       "      HelpfulnessNumerator  HelpfulnessDenominator  Score       Time  \\\n",
       "242                     10                      10      1 2000-06-29   \n",
       "837                      8                       8      1 2000-08-09   \n",
       "868                     26                      28      1 2000-08-09   \n",
       "296                      5                       5      1 2000-10-03   \n",
       "1113                    19                      21      1 2002-11-07   \n",
       "\n",
       "                                           Summary  \\\n",
       "242                 WOW Make your own 'slickers' !   \n",
       "837                               Very easy to use   \n",
       "868                                   A must have!   \n",
       "296   Fabulous Comedic Fanasy Directed by a Master   \n",
       "1113                               Boxed Evolution   \n",
       "\n",
       "                                                   Text  \\\n",
       "242   I just received my shipment and could hardly w...   \n",
       "837   This are so much easier to use than the Wilson...   \n",
       "868   These are easy to use, they do not make a mess...   \n",
       "296   Beetlejuice is an awe-inspiring wonderfully am...   \n",
       "1113  Long live Camper Van Beethoven!! This is a ble...   \n",
       "\n",
       "                                            CleanedText  \\\n",
       "242   receiv shipment could hard wait tri product lo...   \n",
       "837   much easier use wilson past color color vibran...   \n",
       "868   easi use make mess offer vibrant color taint d...   \n",
       "296   beetlejuic wonder amus comed romp explor incre...   \n",
       "1113  long live camper van beethoven bless long time...   \n",
       "\n",
       "                                      CleanedText_Index  \n",
       "242   [175, 669, 74, 120, 430, 10, 6, 8, 306, 281, 3...  \n",
       "837   [24, 660, 5, 0, 369, 290, 290, 2816, 4182, 106...  \n",
       "868   [117, 5, 14, 747, 377, 2816, 290, 4182, 0, 290...  \n",
       "296   [4528, 116, 0, 0, 0, 3759, 937, 664, 0, 4258, ...  \n",
       "1113  [136, 289, 3332, 2960, 0, 2467, 136, 18, 0, 34...  "
      ]
     },
     "execution_count": 7,
     "metadata": {
      "tags": []
     },
     "output_type": "execute_result"
    }
   ],
   "source": [
    "def apply_text_index(row):  \n",
    "    holder = []\n",
    "    for word in row['CleanedText'].split():\n",
    "        if word in word_index_lookup:\n",
    "            holder.append(word_index_lookup[word]) \n",
    "        else:\n",
    "            holder.append(0)            \n",
    "    return holder\n",
    "\n",
    "\n",
    "reviews_df['CleanedText_Index'] = reviews_df.apply(lambda row: apply_text_index(row),axis=1)\n",
    "reviews_df.head(5)"
   ]
  },
  {
   "cell_type": "code",
   "execution_count": 0,
   "metadata": {
    "colab": {},
    "colab_type": "code",
    "id": "NOAym9ECowC3"
   },
   "outputs": [],
   "source": [
    "from sklearn.model_selection import train_test_split\n",
    "\n",
    "x_train, x_test, y_train, y_test = train_test_split(reviews_df['CleanedText_Index'].values,\n",
    "                                                            reviews_df['Score'],\n",
    "                                                            test_size=0.3,\n",
    "                                                            shuffle=False,\n",
    "                                                            random_state=0)"
   ]
  },
  {
   "cell_type": "code",
   "execution_count": 9,
   "metadata": {
    "colab": {
     "base_uri": "https://localhost:8080/",
     "height": 124
    },
    "colab_type": "code",
    "id": "y0QaguDStnL_",
    "outputId": "5b47ecee-ba1b-45a2-ae2e-9efc68983169"
   },
   "outputs": [
    {
     "name": "stdout",
     "output_type": "stream",
     "text": [
      "Total number words present in first review:\n",
      " 23\n",
      "\n",
      "List of word indexes present in first review:\n",
      " [24, 660, 5, 0, 369, 290, 290, 2816, 4182, 1061, 1, 290, 668, 5, 14, 747, 715, 26, 46, 309, 335, 1777, 433]\n",
      "\n"
     ]
    }
   ],
   "source": [
    "print(\"Total number words present in first review:\\n\",len(x_train[1]))\n",
    "print()\n",
    "print(\"List of word indexes present in first review:\\n\", x_train[1])\n",
    "print()"
   ]
  },
  {
   "cell_type": "code",
   "execution_count": 10,
   "metadata": {
    "colab": {
     "base_uri": "https://localhost:8080/",
     "height": 767
    },
    "colab_type": "code",
    "id": "rGy5CDPCtxEC",
    "outputId": "cb0b3dff-c7ef-49c7-c747-9ebb6b903d52"
   },
   "outputs": [
    {
     "name": "stderr",
     "output_type": "stream",
     "text": [
      "Using TensorFlow backend.\n"
     ]
    },
    {
     "name": "stdout",
     "output_type": "stream",
     "text": [
      "Total number words present in first review after padding:\n",
      " 500\n",
      "\n",
      "List of word indexes present in first review padding:\n",
      " [   0    0    0    0    0    0    0    0    0    0    0    0    0    0\n",
      "    0    0    0    0    0    0    0    0    0    0    0    0    0    0\n",
      "    0    0    0    0    0    0    0    0    0    0    0    0    0    0\n",
      "    0    0    0    0    0    0    0    0    0    0    0    0    0    0\n",
      "    0    0    0    0    0    0    0    0    0    0    0    0    0    0\n",
      "    0    0    0    0    0    0    0    0    0    0    0    0    0    0\n",
      "    0    0    0    0    0    0    0    0    0    0    0    0    0    0\n",
      "    0    0    0    0    0    0    0    0    0    0    0    0    0    0\n",
      "    0    0    0    0    0    0    0    0    0    0    0    0    0    0\n",
      "    0    0    0    0    0    0    0    0    0    0    0    0    0    0\n",
      "    0    0    0    0    0    0    0    0    0    0    0    0    0    0\n",
      "    0    0    0    0    0    0    0    0    0    0    0    0    0    0\n",
      "    0    0    0    0    0    0    0    0    0    0    0    0    0    0\n",
      "    0    0    0    0    0    0    0    0    0    0    0    0    0    0\n",
      "    0    0    0    0    0    0    0    0    0    0    0    0    0    0\n",
      "    0    0    0    0    0    0    0    0    0    0    0    0    0    0\n",
      "    0    0    0    0    0    0    0    0    0    0    0    0    0    0\n",
      "    0    0    0    0    0    0    0    0    0    0    0    0    0    0\n",
      "    0    0    0    0    0    0    0    0    0    0    0    0    0    0\n",
      "    0    0    0    0    0    0    0    0    0    0    0    0    0    0\n",
      "    0    0    0    0    0    0    0    0    0    0    0    0    0    0\n",
      "    0    0    0    0    0    0    0    0    0    0    0    0    0    0\n",
      "    0    0    0    0    0    0    0    0    0    0    0    0    0    0\n",
      "    0    0    0    0    0    0    0    0    0    0    0    0    0    0\n",
      "    0    0    0    0    0    0    0    0    0    0    0    0    0    0\n",
      "    0    0    0    0    0    0    0    0    0    0    0    0    0    0\n",
      "    0    0    0    0    0    0    0    0    0    0    0    0    0    0\n",
      "    0    0    0    0    0    0    0    0    0    0    0    0    0    0\n",
      "    0    0    0    0    0    0    0    0    0    0    0    0    0    0\n",
      "    0    0    0    0    0    0    0    0    0    0    0    0    0    0\n",
      "    0    0    0    0    0    0    0    0    0    0    0    0    0    0\n",
      "    0    0    0    0    0    0    0    0    0    0    0    0    0    0\n",
      "    0    0    0    0    0    0    0    0    0    0    0    0    0    0\n",
      "    0    0    0    0    0    0    0    0    0    0    0    0    0    0\n",
      "    0   24  660    5    0  369  290  290 2816 4182 1061    1  290  668\n",
      "    5   14  747  715   26   46  309  335 1777  433]\n",
      "\n"
     ]
    }
   ],
   "source": [
    "from keras.models import Sequential\n",
    "from keras.preprocessing import sequence\n",
    "\n",
    "max_review_length = 500\n",
    "x_train = sequence.pad_sequences(x_train, maxlen=max_review_length)\n",
    "x_test = sequence.pad_sequences(x_test, maxlen=max_review_length)\n",
    "\n",
    "print(\"Total number words present in first review after padding:\\n\",len(x_train[1]))\n",
    "print()\n",
    "print(\"List of word indexes present in first review padding:\\n\", x_train[1])\n",
    "print()"
   ]
  },
  {
   "cell_type": "code",
   "execution_count": 0,
   "metadata": {
    "colab": {},
    "colab_type": "code",
    "id": "33Eb2ardui3l"
   },
   "outputs": [],
   "source": [
    "# this function is used draw Binary Crossentropy Loss VS No. of epochs plot\n",
    "%matplotlib inline\n",
    "import matplotlib.pyplot as plt\n",
    "import numpy as np\n",
    "import time\n",
    "from keras.regularizers import L1L2\n",
    "\n",
    "\n",
    "# Bias regularizer value - we will use elasticnet\n",
    "reg = L1L2(0.01, 0.01)\n",
    "\n",
    "\n",
    "def plt_dynamic(x, vy, ty):\n",
    "  plt.figure(figsize=(10,5))\n",
    "  plt.plot(x, vy, 'b', label=\"Validation Loss\")\n",
    "  plt.plot(x, ty, 'r', label=\"Train Loss\")\n",
    "  plt.xlabel('Epochs') \n",
    "  plt.ylabel('Binary Crossentropy Loss')\n",
    "  plt.title('\\nBinary Crossentropy Loss VS Epochs')\n",
    "  plt.legend()\n",
    "  plt.grid()\n",
    "  plt.show()"
   ]
  },
  {
   "cell_type": "markdown",
   "metadata": {
    "colab_type": "text",
    "id": "yUTdo-MQ-tAM"
   },
   "source": [
    "<H1>M1:1LSTM-LAYER"
   ]
  },
  {
   "cell_type": "code",
   "execution_count": 12,
   "metadata": {
    "colab": {
     "base_uri": "https://localhost:8080/",
     "height": 912
    },
    "colab_type": "code",
    "id": "I4F1607huld2",
    "outputId": "4948d3b4-5cfd-4f26-efe0-80f8ae2262e2"
   },
   "outputs": [
    {
     "name": "stdout",
     "output_type": "stream",
     "text": [
      "WARNING:tensorflow:From /usr/local/lib/python3.6/dist-packages/tensorflow/python/framework/op_def_library.py:263: colocate_with (from tensorflow.python.framework.ops) is deprecated and will be removed in a future version.\n",
      "Instructions for updating:\n",
      "Colocations handled automatically by placer.\n",
      "WARNING:tensorflow:From /usr/local/lib/python3.6/dist-packages/keras/backend/tensorflow_backend.py:3445: calling dropout (from tensorflow.python.ops.nn_ops) with keep_prob is deprecated and will be removed in a future version.\n",
      "Instructions for updating:\n",
      "Please use `rate` instead of `keep_prob`. Rate should be set to `rate = 1 - keep_prob`.\n",
      "_________________________________________________________________\n",
      "Layer (type)                 Output Shape              Param #   \n",
      "=================================================================\n",
      "embedding_1 (Embedding)      (None, 500, 32)           877344    \n",
      "_________________________________________________________________\n",
      "batch_normalization_1 (Batch (None, 500, 32)           128       \n",
      "_________________________________________________________________\n",
      "dropout_1 (Dropout)          (None, 500, 32)           0         \n",
      "_________________________________________________________________\n",
      "lstm_1 (LSTM)                (None, 100)               53200     \n",
      "_________________________________________________________________\n",
      "dropout_2 (Dropout)          (None, 100)               0         \n",
      "_________________________________________________________________\n",
      "dense_1 (Dense)              (None, 1)                 101       \n",
      "=================================================================\n",
      "Total params: 930,773\n",
      "Trainable params: 930,709\n",
      "Non-trainable params: 64\n",
      "_________________________________________________________________\n",
      "None\n",
      "WARNING:tensorflow:From /usr/local/lib/python3.6/dist-packages/tensorflow/python/ops/math_ops.py:3066: to_int32 (from tensorflow.python.ops.math_ops) is deprecated and will be removed in a future version.\n",
      "Instructions for updating:\n",
      "Use tf.cast instead.\n"
     ]
    },
    {
     "name": "stderr",
     "output_type": "stream",
     "text": [
      "/usr/local/lib/python3.6/dist-packages/ipykernel_launcher.py:23: UserWarning: The `nb_epoch` argument in `fit` has been renamed `epochs`.\n"
     ]
    },
    {
     "name": "stdout",
     "output_type": "stream",
     "text": [
      "Train on 35000 samples, validate on 15000 samples\n",
      "Epoch 1/9\n",
      "35000/35000 [==============================] - 59s 2ms/step - loss: 0.3758 - acc: 0.8579 - val_loss: 0.5147 - val_acc: 0.8357\n",
      "Epoch 2/9\n",
      "35000/35000 [==============================] - 55s 2ms/step - loss: 0.2085 - acc: 0.9159 - val_loss: 0.3953 - val_acc: 0.8717\n",
      "Epoch 3/9\n",
      "35000/35000 [==============================] - 56s 2ms/step - loss: 0.1670 - acc: 0.9347 - val_loss: 0.3396 - val_acc: 0.8909\n",
      "Epoch 4/9\n",
      "35000/35000 [==============================] - 56s 2ms/step - loss: 0.1435 - acc: 0.9447 - val_loss: 0.2892 - val_acc: 0.9037\n",
      "Epoch 5/9\n",
      "35000/35000 [==============================] - 54s 2ms/step - loss: 0.1217 - acc: 0.9538 - val_loss: 0.3180 - val_acc: 0.9035\n",
      "Epoch 6/9\n",
      "35000/35000 [==============================] - 55s 2ms/step - loss: 0.1048 - acc: 0.9615 - val_loss: 0.3182 - val_acc: 0.9038\n",
      "Epoch 7/9\n",
      "35000/35000 [==============================] - 55s 2ms/step - loss: 0.0936 - acc: 0.9653 - val_loss: 0.3460 - val_acc: 0.9027\n",
      "Epoch 8/9\n",
      "35000/35000 [==============================] - 54s 2ms/step - loss: 0.0820 - acc: 0.9697 - val_loss: 0.3343 - val_acc: 0.9009\n",
      "Epoch 9/9\n",
      "35000/35000 [==============================] - 56s 2ms/step - loss: 0.0739 - acc: 0.9728 - val_loss: 0.3463 - val_acc: 0.8917\n"
     ]
    }
   ],
   "source": [
    "from keras.models import Sequential\n",
    "from keras.layers import Dense\n",
    "from keras.layers import LSTM\n",
    "from keras.layers.embeddings import Embedding\n",
    "from keras.preprocessing import sequence\n",
    "from keras.initializers import he_normal\n",
    "from keras.layers import BatchNormalization,Dropout\n",
    "\n",
    "\n",
    "embedding_vecor_length = 32\n",
    "\n",
    "model1 = Sequential()\n",
    "model1.add(Embedding(vocab_size, embedding_vecor_length, input_length=max_review_length))\n",
    "model1.add(BatchNormalization())\n",
    "model1.add(Dropout(0.2))\n",
    "model1.add(LSTM(100))\n",
    "model1.add(Dropout(0.2))\n",
    "model1.add(Dense(1, activation='sigmoid'))\n",
    "\n",
    "print(model1.summary())\n",
    "\n",
    "model1.compile(loss='binary_crossentropy', optimizer='adam', metrics=['accuracy'])\n",
    "history1 = model1.fit(x_train, y_train, nb_epoch=9, batch_size=512 ,verbose=1,validation_data=(x_test, y_test))"
   ]
  },
  {
   "cell_type": "code",
   "execution_count": 17,
   "metadata": {
    "colab": {
     "base_uri": "https://localhost:8080/",
     "height": 383
    },
    "colab_type": "code",
    "id": "hfLLAg2Julqc",
    "outputId": "9fc0e727-0bf3-4696-c4c7-6e503c29d127"
   },
   "outputs": [
    {
     "name": "stdout",
     "output_type": "stream",
     "text": [
      "Accuracy: 89.17%\n"
     ]
    },
    {
     "data": {
      "image/png": "[encoded data removed]",
      "text/plain": [
       "<Figure size 720x360 with 1 Axes>"
      ]
     },
     "metadata": {
      "tags": []
     },
     "output_type": "display_data"
    }
   ],
   "source": [
    "# Final evaluation of the model\n",
    "scores = model1.evaluate(x_test, y_test, verbose=0)\n",
    "print(\"Accuracy: %.2f%%\" % (scores[1]*100))\n",
    "\n",
    "# Test and train accuracy of the model\n",
    "model1test = scores[1]\n",
    "model1train = max(history1.history['acc'])\n",
    "\n",
    "# Plotting Train and Test Loss VS no. of epochs\n",
    "# list of epoch numbers\n",
    "x = list(range(1,10))\n",
    "\n",
    "# Validation loss\n",
    "vy = history1.history['val_loss']\n",
    "# Training loss\n",
    "ty = history1.history['loss']\n",
    "\n",
    "# Calling the function to draw the plot\n",
    "plt_dynamic(x, vy, ty)"
   ]
  },
  {
   "cell_type": "markdown",
   "metadata": {
    "colab_type": "text",
    "id": "3M9_Gipj-eFy"
   },
   "source": [
    "<H1>M2: 2LSTM-LAYERS"
   ]
  },
  {
   "cell_type": "code",
   "execution_count": 18,
   "metadata": {
    "colab": {
     "base_uri": "https://localhost:8080/",
     "height": 714
    },
    "colab_type": "code",
    "id": "KGw1L8Sx-ybg",
    "outputId": "3cb86c91-5f2c-43ef-fd69-66a0174fdb77"
   },
   "outputs": [
    {
     "name": "stdout",
     "output_type": "stream",
     "text": [
      "_________________________________________________________________\n",
      "Layer (type)                 Output Shape              Param #   \n",
      "=================================================================\n",
      "embedding_2 (Embedding)      (None, 500, 32)           877344    \n",
      "_________________________________________________________________\n",
      "lstm_2 (LSTM)                (None, 500, 100)          53200     \n",
      "_________________________________________________________________\n",
      "lstm_3 (LSTM)                (None, 100)               80400     \n",
      "_________________________________________________________________\n",
      "dense_2 (Dense)              (None, 1)                 101       \n",
      "=================================================================\n",
      "Total params: 1,011,045\n",
      "Trainable params: 1,011,045\n",
      "Non-trainable params: 0\n",
      "_________________________________________________________________\n",
      "None\n"
     ]
    },
    {
     "name": "stderr",
     "output_type": "stream",
     "text": [
      "/usr/local/lib/python3.6/dist-packages/ipykernel_launcher.py:10: UserWarning: The `nb_epoch` argument in `fit` has been renamed `epochs`.\n",
      "  # Remove the CWD from sys.path while we load stuff.\n"
     ]
    },
    {
     "name": "stdout",
     "output_type": "stream",
     "text": [
      "Train on 35000 samples, validate on 15000 samples\n",
      "Epoch 1/10\n",
      "35000/35000 [==============================] - 126s 4ms/step - loss: 0.4270 - acc: 0.8465 - val_loss: 0.2978 - val_acc: 0.8731\n",
      "Epoch 2/10\n",
      "35000/35000 [==============================] - 124s 4ms/step - loss: 0.2445 - acc: 0.9024 - val_loss: 0.2552 - val_acc: 0.8949\n",
      "Epoch 3/10\n",
      "35000/35000 [==============================] - 123s 4ms/step - loss: 0.2053 - acc: 0.9213 - val_loss: 0.2489 - val_acc: 0.9017\n",
      "Epoch 4/10\n",
      "35000/35000 [==============================] - 123s 4ms/step - loss: 0.1871 - acc: 0.9289 - val_loss: 0.2749 - val_acc: 0.9033\n",
      "Epoch 5/10\n",
      "35000/35000 [==============================] - 122s 3ms/step - loss: 0.1732 - acc: 0.9345 - val_loss: 0.2511 - val_acc: 0.9050\n",
      "Epoch 6/10\n",
      "35000/35000 [==============================] - 124s 4ms/step - loss: 0.1616 - acc: 0.9413 - val_loss: 0.2582 - val_acc: 0.9040\n",
      "Epoch 7/10\n",
      "35000/35000 [==============================] - 121s 3ms/step - loss: 0.1555 - acc: 0.9412 - val_loss: 0.2664 - val_acc: 0.9060\n",
      "Epoch 8/10\n",
      "35000/35000 [==============================] - 123s 4ms/step - loss: 0.1504 - acc: 0.9447 - val_loss: 0.2653 - val_acc: 0.9025\n",
      "Epoch 9/10\n",
      "35000/35000 [==============================] - 122s 3ms/step - loss: 0.1462 - acc: 0.9469 - val_loss: 0.2811 - val_acc: 0.9025\n",
      "Epoch 10/10\n",
      "35000/35000 [==============================] - 123s 4ms/step - loss: 0.1413 - acc: 0.9481 - val_loss: 0.2789 - val_acc: 0.9012\n"
     ]
    }
   ],
   "source": [
    "model2 = Sequential()\n",
    "model2.add(Embedding(vocab_size, embedding_vecor_length, input_length=max_review_length))\n",
    "model2.add(LSTM(100,return_sequences=True, dropout=0.4, recurrent_dropout=0.4))\n",
    "model2.add(LSTM(100, dropout=0.4, recurrent_dropout=0.4))\n",
    "model2.add(Dense(1, activation='sigmoid'))\n",
    "\n",
    "print(model2.summary())\n",
    "\n",
    "model2.compile(loss='binary_crossentropy', optimizer='adam', metrics=['accuracy'])\n",
    "history2 = model2.fit(x_train, y_train, nb_epoch=10, batch_size=512 ,verbose=1,validation_data=(x_test, y_test))"
   ]
  },
  {
   "cell_type": "code",
   "execution_count": 19,
   "metadata": {
    "colab": {
     "base_uri": "https://localhost:8080/",
     "height": 383
    },
    "colab_type": "code",
    "id": "zcvIMR_GUomm",
    "outputId": "04410dd3-2d10-44d3-fe07-604b53182d3b"
   },
   "outputs": [
    {
     "name": "stdout",
     "output_type": "stream",
     "text": [
      "Accuracy: 90.12%\n"
     ]
    },
    {
     "data": {
      "image/png": "[encoded data removed]",
      "text/plain": [
       "<Figure size 720x360 with 1 Axes>"
      ]
     },
     "metadata": {
      "tags": []
     },
     "output_type": "display_data"
    }
   ],
   "source": [
    "# Final evaluation of the model\n",
    "scores = model2.evaluate(x_test, y_test, verbose=0)\n",
    "print(\"Accuracy: %.2f%%\" % (scores[1]*100))\n",
    "\n",
    "# Test and train accuracy of the model\n",
    "model2test = scores[1]\n",
    "model2train = max(history2.history['acc'])\n",
    "\n",
    "# Plotting Train and Test Loss VS no. of epochs\n",
    "# list of epoch numbers\n",
    "x = list(range(1,11))\n",
    "\n",
    "# Validation loss\n",
    "vy = history2.history['val_loss']\n",
    "# Training loss\n",
    "ty = history2.history['loss']\n",
    "\n",
    "# Calling the function to draw the plot\n",
    "plt_dynamic(x, vy, ty)"
   ]
  },
  {
   "cell_type": "markdown",
   "metadata": {
    "colab_type": "text",
    "id": "IzYfuwTpUqYt"
   },
   "source": [
    "<H1>M3: 5LSTM-LAYERS"
   ]
  },
  {
   "cell_type": "code",
   "execution_count": 20,
   "metadata": {
    "colab": {
     "base_uri": "https://localhost:8080/",
     "height": 1018
    },
    "colab_type": "code",
    "id": "nuK6W2xLeK-A",
    "outputId": "8ffa4be6-648e-4ce6-bcca-f129bced6cd4"
   },
   "outputs": [
    {
     "name": "stdout",
     "output_type": "stream",
     "text": [
      "Model Summary: \n",
      "\n",
      "_________________________________________________________________\n",
      "Layer (type)                 Output Shape              Param #   \n",
      "=================================================================\n",
      "embedding_3 (Embedding)      (None, 500, 32)           877344    \n",
      "_________________________________________________________________\n",
      "batch_normalization_2 (Batch (None, 500, 32)           128       \n",
      "_________________________________________________________________\n",
      "dropout_3 (Dropout)          (None, 500, 32)           0         \n",
      "_________________________________________________________________\n",
      "lstm_4 (LSTM)                (None, 500, 100)          53200     \n",
      "_________________________________________________________________\n",
      "dropout_4 (Dropout)          (None, 500, 100)          0         \n",
      "_________________________________________________________________\n",
      "lstm_5 (LSTM)                (None, 500, 80)           57920     \n",
      "_________________________________________________________________\n",
      "dropout_5 (Dropout)          (None, 500, 80)           0         \n",
      "_________________________________________________________________\n",
      "lstm_6 (LSTM)                (None, 500, 60)           33840     \n",
      "_________________________________________________________________\n",
      "dropout_6 (Dropout)          (None, 500, 60)           0         \n",
      "_________________________________________________________________\n",
      "lstm_7 (LSTM)                (None, 500, 40)           16160     \n",
      "_________________________________________________________________\n",
      "batch_normalization_3 (Batch (None, 500, 40)           160       \n",
      "_________________________________________________________________\n",
      "dropout_7 (Dropout)          (None, 500, 40)           0         \n",
      "_________________________________________________________________\n",
      "lstm_8 (LSTM)                (None, 20)                4880      \n",
      "_________________________________________________________________\n",
      "dropout_8 (Dropout)          (None, 20)                0         \n",
      "_________________________________________________________________\n",
      "dense_3 (Dense)              (None, 1)                 21        \n",
      "=================================================================\n",
      "Total params: 1,043,653\n",
      "Trainable params: 1,043,509\n",
      "Non-trainable params: 144\n",
      "_________________________________________________________________\n",
      "\n",
      "\n",
      "Train on 35000 samples, validate on 15000 samples\n",
      "Epoch 1/7\n",
      "35000/35000 [==============================] - 270s 8ms/step - loss: 5.7623 - acc: 0.8400 - val_loss: 5.3775 - val_acc: 0.8585\n",
      "Epoch 2/7\n",
      "35000/35000 [==============================] - 265s 8ms/step - loss: 5.0687 - acc: 0.8877 - val_loss: 4.8164 - val_acc: 0.8867\n",
      "Epoch 3/7\n",
      "35000/35000 [==============================] - 264s 8ms/step - loss: 4.5043 - acc: 0.9156 - val_loss: 4.3156 - val_acc: 0.8970\n",
      "Epoch 4/7\n",
      "35000/35000 [==============================] - 263s 8ms/step - loss: 4.0049 - acc: 0.9294 - val_loss: 3.8724 - val_acc: 0.8984\n",
      "Epoch 5/7\n",
      "35000/35000 [==============================] - 266s 8ms/step - loss: 3.5427 - acc: 0.9397 - val_loss: 3.4530 - val_acc: 0.9009\n",
      "Epoch 6/7\n",
      "35000/35000 [==============================] - 262s 7ms/step - loss: 3.1200 - acc: 0.9478 - val_loss: 3.0959 - val_acc: 0.8959\n",
      "Epoch 7/7\n",
      "35000/35000 [==============================] - 263s 8ms/step - loss: 2.7257 - acc: 0.9565 - val_loss: 2.7458 - val_acc: 0.8998\n"
     ]
    }
   ],
   "source": [
    "from keras.models import Sequential\n",
    "from keras.layers import Dense\n",
    "from keras.layers import LSTM\n",
    "from keras.layers.embeddings import Embedding\n",
    "from keras.preprocessing import sequence\n",
    "from keras.initializers import he_normal\n",
    "from keras.layers import BatchNormalization,Dropout\n",
    "\n",
    "\n",
    "\n",
    "\n",
    "\n",
    "embedding_vecor_length = 32\n",
    "\n",
    "model3 = Sequential()\n",
    "model3.add(Embedding(vocab_size, embedding_vecor_length, input_length=max_review_length))\n",
    "model3.add(BatchNormalization())\n",
    "model3.add(Dropout(0.20))\n",
    "model3.add(LSTM(100,return_sequences=True,bias_regularizer=reg))\n",
    "model3.add(Dropout(0.20))\n",
    "model3.add(LSTM(80,return_sequences=True,bias_regularizer=reg))\n",
    "model3.add(Dropout(0.20))\n",
    "model3.add(LSTM(60,return_sequences=True,bias_regularizer=reg))\n",
    "model3.add(Dropout(0.30))\n",
    "model3.add(LSTM(40,return_sequences=True,bias_regularizer=reg))\n",
    "model3.add(BatchNormalization())\n",
    "model3.add(Dropout(0.40))\n",
    "model3.add(LSTM(20))\n",
    "model3.add(Dropout(0.50))\n",
    "model3.add(Dense(1, activation='sigmoid'))\n",
    "\n",
    "print(\"Model Summary: \\n\")\n",
    "model3.summary()\n",
    "print()\n",
    "print()\n",
    "\n",
    " \n",
    "model3.compile(loss='binary_crossentropy', optimizer='adam', metrics=['accuracy'])\n",
    "\n",
    "\n",
    "history3 = model3.fit(x_train, y_train, batch_size = 512, epochs = 7, verbose=1, validation_data=(x_test, y_test))"
   ]
  },
  {
   "cell_type": "code",
   "execution_count": 22,
   "metadata": {
    "colab": {
     "base_uri": "https://localhost:8080/",
     "height": 383
    },
    "colab_type": "code",
    "id": "O3NVAq2Fv0M_",
    "outputId": "947d48c8-64d5-418d-a5bc-691db1817420"
   },
   "outputs": [
    {
     "name": "stdout",
     "output_type": "stream",
     "text": [
      "Accuracy: 89.98%\n"
     ]
    },
    {
     "data": {
      "image/png": "[encoded data removed]",
      "text/plain": [
       "<Figure size 720x360 with 1 Axes>"
      ]
     },
     "metadata": {
      "tags": []
     },
     "output_type": "display_data"
    }
   ],
   "source": [
    "# Final evaluation of the model\n",
    "scores = model3.evaluate(x_test, y_test, verbose=0)\n",
    "print(\"Accuracy: %.2f%%\" % (scores[1]*100))\n",
    "\n",
    "# Test and train accuracy of the model\n",
    "model3test = scores[1]\n",
    "model3train = max(history3.history['acc'])\n",
    "\n",
    "# Plotting Train and Test Loss VS no. of epochs\n",
    "# list of epoch numbers\n",
    "x = list(range(1,8))\n",
    "\n",
    "# Validation loss\n",
    "vy = history3.history['val_loss']\n",
    "# Training loss\n",
    "ty = history3.history['loss']\n",
    "\n",
    "# Calling the function to draw the plot\n",
    "plt_dynamic(x, vy, ty)"
   ]
  },
  {
   "cell_type": "code",
   "execution_count": 23,
   "metadata": {
    "colab": {
     "base_uri": "https://localhost:8080/",
     "height": 142
    },
    "colab_type": "code",
    "id": "cY5hkIjR-huV",
    "outputId": "7a82a198-1706-4333-bc68-6b4c9713be65"
   },
   "outputs": [
    {
     "name": "stdout",
     "output_type": "stream",
     "text": [
      "+-------+------------------------+--------------------+--------------------+\n",
      "| S.NO. |         MODEL          | Training Accuracy  |   Test Accuracy    |\n",
      "+-------+------------------------+--------------------+--------------------+\n",
      "|   1   | RNN With 1 LSTM Layer  | 0.9727714285986764 | 0.8916666666348775 |\n",
      "|   2   | RNN With 2 LSTM Layers | 0.9481142856052943 | 0.9012000000317891 |\n",
      "|   3   | RNN With 5 LSTM Layers |  0.95648571434021  | 0.8997999999682108 |\n",
      "+-------+------------------------+--------------------+--------------------+\n"
     ]
    }
   ],
   "source": [
    "# Creating table using PrettyTable library\n",
    "from prettytable import PrettyTable\n",
    "\n",
    "# Names of models\n",
    "names = ['RNN With 1 LSTM Layer','RNN With 2 LSTM Layers','RNN With 5 LSTM Layers']\n",
    "\n",
    "# Training accuracies\n",
    "train_acc = [model1train,model2train,model3train]\n",
    "\n",
    "# Test accuracies\n",
    "test_acc = [model1test,model2test,model3test]\n",
    "\n",
    "numbering = [1,2,3]\n",
    "\n",
    "# Initializing prettytable\n",
    "ptable = PrettyTable()\n",
    "\n",
    "# Adding columns\n",
    "ptable.add_column(\"S.NO.\",numbering)\n",
    "ptable.add_column(\"MODEL\",names)\n",
    "ptable.add_column(\"Training Accuracy\",train_acc)\n",
    "ptable.add_column(\"Test Accuracy\",test_acc)\n",
    "\n",
    "# Printing the Table\n",
    "print(ptable)"
   ]
  }
 ],
 "metadata": {
  "accelerator": "GPU",
  "colab": {
   "collapsed_sections": [],
   "name": "LSTM_IMDB.ipynb",
   "provenance": [],
   "version": "0.3.2"
  },
  "kernelspec": {
   "display_name": "Python 3",
   "language": "python",
   "name": "python3"
  },
  "language_info": {
   "codemirror_mode": {
    "name": "ipython",
    "version": 3
   },
   "file_extension": ".py",
   "mimetype": "text/x-python",
   "name": "python",
   "nbconvert_exporter": "python",
   "pygments_lexer": "ipython3",
   "version": "3.7.3"
  }
 },
 "nbformat": 4,
 "nbformat_minor": 1
}
